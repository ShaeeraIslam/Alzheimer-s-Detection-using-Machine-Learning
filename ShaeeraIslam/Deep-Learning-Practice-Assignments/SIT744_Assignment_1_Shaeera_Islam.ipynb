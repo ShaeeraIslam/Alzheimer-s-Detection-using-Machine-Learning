{
  "nbformat": 4,
  "nbformat_minor": 0,
  "metadata": {
    "colab": {
      "provenance": [],
      "authorship_tag": "ABX9TyPkbNkP0+3/plr5cX2+1VCG",
      "include_colab_link": true
    },
    "kernelspec": {
      "name": "python3",
      "display_name": "Python 3"
    },
    "language_info": {
      "name": "python"
    }
  },
  "cells": [
    {
      "cell_type": "markdown",
      "metadata": {
        "id": "view-in-github",
        "colab_type": "text"
      },
      "source": [
        "<a href=\"https://colab.research.google.com/github/ShaeeraIslam/Alzheimer-s-Detection-using-Machine-Learning/blob/main/ShaeeraIslam/Deep-Learning-Practice-Assignments/SIT744_Assignment_1_Shaeera_Islam.ipynb\" target=\"_parent\"><img src=\"https://colab.research.google.com/assets/colab-badge.svg\" alt=\"Open In Colab\"/></a>"
      ]
    },
    {
      "cell_type": "markdown",
      "source": [
        "Set A"
      ],
      "metadata": {
        "id": "0Qasaq8HuG3u"
      }
    },
    {
      "cell_type": "markdown",
      "source": [
        "# 1.1 Problem Description\n",
        "# Forecasting Energy Consumption in a Smart Building\n",
        "\n",
        "problem_description =\n",
        "The goal is to forecast hourly energy consumption in a smart building using historical energy usage data and environmental variables.\n",
        "Objectives:\n",
        "- Build a simple regression model using a neural network.\n",
        "- Predict future energy consumption values.\n",
        "\n",
        "Ethical Concerns:\n",
        "- Dataset may reflect biases in occupancy patterns, seasonal factors, or geographic energy usage.\n",
        "- Potential overfitting on specific days or temperature ranges.\n",
        "- Data privacy if sensor data is too granular.\n",
        "\n",
        "print(problem_description)\n"
      ],
      "metadata": {
        "id": "IkaYmP1LvM6M"
      }
    },
    {
      "cell_type": "code",
      "execution_count": 1,
      "metadata": {
        "id": "Ncy92BE4txD9"
      },
      "outputs": [],
      "source": [
        "# 1.2 Dataset Selection and Preprocessing\n",
        "\n",
        "import pandas as pd\n",
        "import numpy as np\n",
        "from sklearn.model_selection import train_test_split\n",
        "from sklearn.preprocessing import StandardScaler\n",
        "import matplotlib.pyplot as plt\n",
        "\n",
        "# Load UCI energy dataset\n",
        "url = \"https://archive.ics.uci.edu/ml/machine-learning-databases/00374/energydata_complete.csv\"\n",
        "df = pd.read_csv(url)\n",
        "\n",
        "# Features and target\n",
        "features = df[['T1', 'RH_1', 'T2', 'RH_2', 'T_out', 'RH_out']]\n",
        "target = df['Appliances']\n",
        "\n",
        "# Train-test split\n",
        "X_train, X_test, y_train, y_test = train_test_split(features, target, test_size=0.2, random_state=42)\n",
        "\n",
        "# Standardize\n",
        "scaler = StandardScaler()\n",
        "X_train = scaler.fit_transform(X_train)\n",
        "X_test = scaler.transform(X_test)\n"
      ]
    },
    {
      "cell_type": "code",
      "source": [
        "# 1.3 Build a simple fully connected network\n",
        "import torch\n",
        "import torch.nn as nn\n",
        "from torch.utils.data import DataLoader, TensorDataset\n",
        "\n",
        "class EnergyNN(nn.Module):\n",
        "    def __init__(self):\n",
        "        super(EnergyNN, self).__init__()\n",
        "        self.model = nn.Sequential(\n",
        "            nn.Linear(6, 16),\n",
        "            nn.ReLU(),\n",
        "            nn.Linear(16, 1)\n",
        "        )\n",
        "\n",
        "    def forward(self, x):\n",
        "        return self.model(x)\n",
        "\n",
        "# Convert to PyTorch tensors\n",
        "X_train_tensor = torch.tensor(X_train, dtype=torch.float32)\n",
        "y_train_tensor = torch.tensor(y_train.values, dtype=torch.float32).view(-1, 1)\n",
        "X_test_tensor = torch.tensor(X_test, dtype=torch.float32)\n",
        "y_test_tensor = torch.tensor(y_test.values, dtype=torch.float32).view(-1, 1)\n",
        "\n",
        "train_loader = DataLoader(TensorDataset(X_train_tensor, y_train_tensor), batch_size=64, shuffle=True)\n"
      ],
      "metadata": {
        "id": "T_lfDxhJuJ-b"
      },
      "execution_count": 2,
      "outputs": []
    },
    {
      "cell_type": "code",
      "source": [
        "# 1.4 Training loop\n",
        "model = EnergyNN()\n",
        "criterion = nn.MSELoss()\n",
        "optimizer = torch.optim.Adam(model.parameters(), lr=0.001)\n",
        "\n",
        "for epoch in range(50):\n",
        "    model.train()\n",
        "    running_loss = 0\n",
        "    for xb, yb in train_loader:\n",
        "        pred = model(xb)\n",
        "        loss = criterion(pred, yb)\n",
        "        optimizer.zero_grad()\n",
        "        loss.backward()\n",
        "        optimizer.step()\n",
        "        running_loss += loss.item()\n",
        "    print(f\"Epoch {epoch+1}: Loss = {running_loss:.4f}\")\n"
      ],
      "metadata": {
        "colab": {
          "base_uri": "https://localhost:8080/",
          "height": 0
        },
        "id": "idwrp1gtuRvL",
        "outputId": "5e2ec0f0-4730-4c50-e3a5-a5df09efb4b7"
      },
      "execution_count": 3,
      "outputs": [
        {
          "output_type": "stream",
          "name": "stdout",
          "text": [
            "Epoch 1: Loss = 4933885.0371\n",
            "Epoch 2: Loss = 4686893.8062\n",
            "Epoch 3: Loss = 4273011.3218\n",
            "Epoch 4: Loss = 3798956.2612\n",
            "Epoch 5: Loss = 3362476.9548\n",
            "Epoch 6: Loss = 3057029.7314\n",
            "Epoch 7: Loss = 2876322.1094\n",
            "Epoch 8: Loss = 2777188.5295\n",
            "Epoch 9: Loss = 2720571.7346\n",
            "Epoch 10: Loss = 2675190.8628\n",
            "Epoch 11: Loss = 2643007.8308\n",
            "Epoch 12: Loss = 2614143.9702\n",
            "Epoch 13: Loss = 2587529.4292\n",
            "Epoch 14: Loss = 2561490.8721\n",
            "Epoch 15: Loss = 2538924.4175\n",
            "Epoch 16: Loss = 2519877.3538\n",
            "Epoch 17: Loss = 2508657.9641\n",
            "Epoch 18: Loss = 2495566.9126\n",
            "Epoch 19: Loss = 2486062.4406\n",
            "Epoch 20: Loss = 2477547.7759\n",
            "Epoch 21: Loss = 2470587.8168\n",
            "Epoch 22: Loss = 2466095.9091\n",
            "Epoch 23: Loss = 2461375.6223\n",
            "Epoch 24: Loss = 2457668.0525\n",
            "Epoch 25: Loss = 2453482.3296\n",
            "Epoch 26: Loss = 2448916.6904\n",
            "Epoch 27: Loss = 2454456.2786\n",
            "Epoch 28: Loss = 2446451.3442\n",
            "Epoch 29: Loss = 2443984.0618\n",
            "Epoch 30: Loss = 2440674.9990\n",
            "Epoch 31: Loss = 2441003.8477\n",
            "Epoch 32: Loss = 2438908.2444\n",
            "Epoch 33: Loss = 2436219.9545\n",
            "Epoch 34: Loss = 2434341.4537\n",
            "Epoch 35: Loss = 2437161.5791\n",
            "Epoch 36: Loss = 2432525.8096\n",
            "Epoch 37: Loss = 2431949.3263\n",
            "Epoch 38: Loss = 2429620.9209\n",
            "Epoch 39: Loss = 2431017.3070\n",
            "Epoch 40: Loss = 2428502.4518\n",
            "Epoch 41: Loss = 2427030.1672\n",
            "Epoch 42: Loss = 2425442.5582\n",
            "Epoch 43: Loss = 2423968.5383\n",
            "Epoch 44: Loss = 2424192.5803\n",
            "Epoch 45: Loss = 2424923.5364\n",
            "Epoch 46: Loss = 2423505.3097\n",
            "Epoch 47: Loss = 2420743.3690\n",
            "Epoch 48: Loss = 2419402.4724\n",
            "Epoch 49: Loss = 2420849.6616\n",
            "Epoch 50: Loss = 2419444.2009\n"
          ]
        }
      ]
    },
    {
      "cell_type": "code",
      "source": [
        "# Evaluate\n",
        "model.eval()\n",
        "with torch.no_grad():\n",
        "    test_preds = model(X_test_tensor)\n",
        "    test_loss = criterion(test_preds, y_test_tensor)\n",
        "    print(f\"Test MSE Loss: {test_loss.item():.4f}\")\n",
        ""
      ],
      "metadata": {
        "colab": {
          "base_uri": "https://localhost:8080/",
          "height": 0
        },
        "id": "kDemzeowuRgX",
        "outputId": "8defee96-8675-478b-ba50-734f437cc2e3"
      },
      "execution_count": 4,
      "outputs": [
        {
          "output_type": "stream",
          "name": "stdout",
          "text": [
            "Test MSE Loss: 9185.4688\n"
          ]
        }
      ]
    },
    {
      "cell_type": "markdown",
      "source": [
        "Set b - credit"
      ],
      "metadata": {
        "id": "ooP-od3EuiXi"
      }
    },
    {
      "cell_type": "code",
      "source": [
        "# 2.1 Add TensorBoard\n",
        "from torch.utils.tensorboard import SummaryWriter\n",
        "\n",
        "writer = SummaryWriter()\n",
        "\n",
        "# Add more layers to improve\n",
        "class ImprovedNN(nn.Module):\n",
        "    def __init__(self):\n",
        "        super(ImprovedNN, self).__init__()\n",
        "        self.model = nn.Sequential(\n",
        "            nn.Linear(6, 32),\n",
        "            nn.ReLU(),\n",
        "            nn.Linear(32, 16),\n",
        "            nn.ReLU(),\n",
        "            nn.Linear(16, 1)\n",
        "        )\n",
        "\n",
        "    def forward(self, x):\n",
        "        return self.model(x)\n",
        "\n",
        "model = ImprovedNN()\n",
        "optimizer = torch.optim.Adam(model.parameters(), lr=0.001)\n",
        "\n",
        "# Log to TensorBoard\n",
        "for epoch in range(50):\n",
        "    model.train()\n",
        "    epoch_loss = 0\n",
        "    for xb, yb in train_loader:\n",
        "        pred = model(xb)\n",
        "        loss = criterion(pred, yb)\n",
        "        optimizer.zero_grad()\n",
        "        loss.backward()\n",
        "        optimizer.step()\n",
        "        epoch_loss += loss.item()\n",
        "    writer.add_scalar(\"Loss/train\", epoch_loss, epoch)\n",
        "    print(f\"Epoch {epoch+1}: {epoch_loss:.4f}\")\n",
        "\n",
        "writer.close()\n"
      ],
      "metadata": {
        "colab": {
          "base_uri": "https://localhost:8080/",
          "height": 0
        },
        "id": "NUcaalomuff5",
        "outputId": "335f11d3-1ef2-4a70-d69e-f6e3df6e4af6"
      },
      "execution_count": 5,
      "outputs": [
        {
          "output_type": "stream",
          "name": "stdout",
          "text": [
            "Epoch 1: 4354816.7173\n",
            "Epoch 2: 2835968.5085\n",
            "Epoch 3: 2652003.9253\n",
            "Epoch 4: 2565396.0458\n",
            "Epoch 5: 2519392.2739\n",
            "Epoch 6: 2495094.6870\n",
            "Epoch 7: 2482428.9202\n",
            "Epoch 8: 2476253.1990\n",
            "Epoch 9: 2466864.2012\n",
            "Epoch 10: 2462647.6384\n",
            "Epoch 11: 2458049.7900\n",
            "Epoch 12: 2455566.1094\n",
            "Epoch 13: 2450716.8862\n",
            "Epoch 14: 2448914.9033\n",
            "Epoch 15: 2443861.6278\n",
            "Epoch 16: 2441162.7769\n",
            "Epoch 17: 2441307.8821\n",
            "Epoch 18: 2441431.6208\n",
            "Epoch 19: 2433615.9709\n",
            "Epoch 20: 2430641.2720\n",
            "Epoch 21: 2431858.3235\n",
            "Epoch 22: 2431837.6859\n",
            "Epoch 23: 2430010.3096\n",
            "Epoch 24: 2426931.4287\n",
            "Epoch 25: 2423801.5942\n",
            "Epoch 26: 2424061.6742\n",
            "Epoch 27: 2420547.5437\n",
            "Epoch 28: 2418304.0000\n",
            "Epoch 29: 2418207.5137\n",
            "Epoch 30: 2415183.4990\n",
            "Epoch 31: 2415630.6807\n",
            "Epoch 32: 2412905.7637\n",
            "Epoch 33: 2412888.9231\n",
            "Epoch 34: 2412497.9873\n",
            "Epoch 35: 2411014.7948\n",
            "Epoch 36: 2410429.7515\n",
            "Epoch 37: 2411948.9615\n",
            "Epoch 38: 2407971.8787\n",
            "Epoch 39: 2406038.7742\n",
            "Epoch 40: 2404580.3147\n",
            "Epoch 41: 2408820.6023\n",
            "Epoch 42: 2404714.2134\n",
            "Epoch 43: 2402694.6772\n",
            "Epoch 44: 2408796.7932\n",
            "Epoch 45: 2402299.2615\n",
            "Epoch 46: 2404625.9755\n",
            "Epoch 47: 2402035.3940\n",
            "Epoch 48: 2403324.4441\n",
            "Epoch 49: 2401145.3896\n",
            "Epoch 50: 2399230.4604\n"
          ]
        }
      ]
    },
    {
      "cell_type": "markdown",
      "source": [
        "Set C - D level"
      ],
      "metadata": {
        "id": "08YkP_eJuqj6"
      }
    },
    {
      "cell_type": "code",
      "source": [
        "# 3.1 Check for bias in targets\n",
        "plt.hist(target, bins=50)\n",
        "plt.title(\"Distribution of Appliance Energy Usage\")\n",
        "plt.xlabel(\"Energy Usage (Wh)\")\n",
        "plt.ylabel(\"Count\")\n",
        "plt.grid()\n",
        "plt.show()\n"
      ],
      "metadata": {
        "colab": {
          "base_uri": "https://localhost:8080/",
          "height": 472
        },
        "id": "7OeyAPqruoOR",
        "outputId": "23b2a1f1-46ee-4286-e1f0-e7b910bd0a52"
      },
      "execution_count": 6,
      "outputs": [
        {
          "output_type": "display_data",
          "data": {
            "text/plain": [
              "<Figure size 640x480 with 1 Axes>"
            ],
            "image/png": "[encoded data removed]"
          },
          "metadata": {}
        }
      ]
    },
    {
      "cell_type": "code",
      "source": [
        "# 3.2 Mitigation: Rebalancing\n",
        "# Clip or oversample lower values (example strategy)\n",
        "filtered_df = df[df['Appliances'] < 400]  # Remove extreme values\n"
      ],
      "metadata": {
        "id": "obDWrMgWutvC"
      },
      "execution_count": 7,
      "outputs": []
    },
    {
      "cell_type": "markdown",
      "source": [
        "Set 4 - HD task"
      ],
      "metadata": {
        "id": "-bmshYeLu3D-"
      }
    },
    {
      "cell_type": "code",
      "source": [
        "# 4.1 Reproduce key experiments - toy modulo dataset\n",
        "import random\n",
        "\n",
        "def generate_mod_dataset(size=1000, mod=5):\n",
        "    X = torch.randint(0, 100, (size, 1)).float()\n",
        "    y = (X % mod).float()\n",
        "    return X, y\n",
        "\n",
        "X_train, y_train = generate_mod_dataset(2048, mod=5)\n",
        "X_test, y_test = generate_mod_dataset(512, mod=5)\n",
        "\n",
        "class ModNet(nn.Module):\n",
        "    def __init__(self):\n",
        "        super(ModNet, self).__init__()\n",
        "        self.model = nn.Sequential(\n",
        "            nn.Linear(1, 256),\n",
        "            nn.ReLU(),\n",
        "            nn.Linear(256, 5)  # 5 classes\n",
        "        )\n",
        "\n",
        "    def forward(self, x):\n",
        "        return self.model(x)\n",
        "\n",
        "model = ModNet()\n",
        "criterion = nn.CrossEntropyLoss()\n",
        "optimizer = torch.optim.Adam(model.parameters(), lr=1e-3)\n",
        "\n",
        "train_dataset = DataLoader(TensorDataset(X_train, y_train.long().view(-1)), batch_size=64, shuffle=True)\n",
        "\n",
        "for epoch in range(100):\n",
        "    model.train()\n",
        "    epoch_loss = 0\n",
        "    for xb, yb in train_dataset:\n",
        "        out = model(xb)\n",
        "        loss = criterion(out, yb)\n",
        "        optimizer.zero_grad()\n",
        "        loss.backward()\n",
        "        optimizer.step()\n",
        "        epoch_loss += loss.item()\n",
        "    print(f\"Epoch {epoch+1}: {epoch_loss:.4f}\")\n"
      ],
      "metadata": {
        "colab": {
          "base_uri": "https://localhost:8080/",
          "height": 0
        },
        "id": "z-xmyvGHu6Lt",
        "outputId": "5857b90e-64a9-4e83-84f0-dd4db7614b6a"
      },
      "execution_count": 8,
      "outputs": [
        {
          "output_type": "stream",
          "name": "stdout",
          "text": [
            "Epoch 1: 111.7568\n",
            "Epoch 2: 56.8671\n",
            "Epoch 3: 53.8006\n",
            "Epoch 4: 53.7209\n",
            "Epoch 5: 53.7887\n",
            "Epoch 6: 53.0499\n",
            "Epoch 7: 53.1295\n",
            "Epoch 8: 55.8313\n",
            "Epoch 9: 54.7838\n",
            "Epoch 10: 54.7337\n",
            "Epoch 11: 56.3847\n",
            "Epoch 12: 56.1610\n",
            "Epoch 13: 54.1675\n",
            "Epoch 14: 55.1828\n",
            "Epoch 15: 54.9936\n",
            "Epoch 16: 53.9398\n",
            "Epoch 17: 58.5058\n",
            "Epoch 18: 54.3533\n",
            "Epoch 19: 53.1964\n",
            "Epoch 20: 53.4730\n",
            "Epoch 21: 54.0338\n",
            "Epoch 22: 53.8721\n",
            "Epoch 23: 55.0120\n",
            "Epoch 24: 53.5180\n",
            "Epoch 25: 54.3001\n",
            "Epoch 26: 53.1110\n",
            "Epoch 27: 53.1223\n",
            "Epoch 28: 55.1258\n",
            "Epoch 29: 55.3787\n",
            "Epoch 30: 55.9806\n",
            "Epoch 31: 55.3950\n",
            "Epoch 32: 54.3799\n",
            "Epoch 33: 53.6814\n",
            "Epoch 34: 52.8007\n",
            "Epoch 35: 54.6359\n",
            "Epoch 36: 58.7558\n",
            "Epoch 37: 53.1336\n",
            "Epoch 38: 53.3599\n",
            "Epoch 39: 56.0310\n",
            "Epoch 40: 55.4427\n",
            "Epoch 41: 55.2726\n",
            "Epoch 42: 52.7398\n",
            "Epoch 43: 51.7609\n",
            "Epoch 44: 52.1056\n",
            "Epoch 45: 54.2413\n",
            "Epoch 46: 56.1882\n",
            "Epoch 47: 54.5852\n",
            "Epoch 48: 53.1701\n",
            "Epoch 49: 53.6970\n",
            "Epoch 50: 55.1109\n",
            "Epoch 51: 52.0881\n",
            "Epoch 52: 55.2808\n",
            "Epoch 53: 55.1850\n",
            "Epoch 54: 52.7681\n",
            "Epoch 55: 53.0047\n",
            "Epoch 56: 53.4319\n",
            "Epoch 57: 53.4124\n",
            "Epoch 58: 54.7573\n",
            "Epoch 59: 57.9224\n",
            "Epoch 60: 54.2091\n",
            "Epoch 61: 54.8920\n",
            "Epoch 62: 55.4746\n",
            "Epoch 63: 52.7889\n",
            "Epoch 64: 54.2871\n",
            "Epoch 65: 52.5975\n",
            "Epoch 66: 53.5060\n",
            "Epoch 67: 54.8088\n",
            "Epoch 68: 54.0324\n",
            "Epoch 69: 54.3584\n",
            "Epoch 70: 56.0846\n",
            "Epoch 71: 54.2127\n",
            "Epoch 72: 52.3022\n",
            "Epoch 73: 53.8308\n",
            "Epoch 74: 53.9683\n",
            "Epoch 75: 52.6620\n",
            "Epoch 76: 51.6176\n",
            "Epoch 77: 54.9221\n",
            "Epoch 78: 53.9451\n",
            "Epoch 79: 53.5787\n",
            "Epoch 80: 55.4849\n",
            "Epoch 81: 56.4388\n",
            "Epoch 82: 55.2924\n",
            "Epoch 83: 54.4076\n",
            "Epoch 84: 56.1104\n",
            "Epoch 85: 56.1656\n",
            "Epoch 86: 54.8862\n",
            "Epoch 87: 53.6737\n",
            "Epoch 88: 56.2610\n",
            "Epoch 89: 56.1018\n",
            "Epoch 90: 51.7046\n",
            "Epoch 91: 51.6775\n",
            "Epoch 92: 52.2104\n",
            "Epoch 93: 53.4452\n",
            "Epoch 94: 54.2210\n",
            "Epoch 95: 52.8655\n",
            "Epoch 96: 52.1326\n",
            "Epoch 97: 53.3972\n",
            "Epoch 98: 53.6902\n",
            "Epoch 99: 53.6681\n",
            "Epoch 100: 54.7031\n"
          ]
        }
      ]
    },
    {
      "cell_type": "markdown",
      "source": [],
      "metadata": {
        "id": "oNnPluuDuEd-"
      }
    }
  ]
}